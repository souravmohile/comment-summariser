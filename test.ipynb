{
 "cells": [
  {
   "cell_type": "code",
   "execution_count": 2,
   "id": "6770e93a",
   "metadata": {},
   "outputs": [],
   "source": [
    "import pandas as pd\n",
    "import os\n",
    "from groq import Groq\n",
    "import ast\n",
    "import time\n",
    "import numpy as np\n",
    "import streamlit as st"
   ]
  },
  {
   "cell_type": "code",
   "execution_count": 88,
   "id": "039321b4",
   "metadata": {},
   "outputs": [],
   "source": [
    "df = pd.read_csv(r\"C:\\Users\\Santosh Mohile\\Documents\\LawAndCrime\\day1.csv\")"
   ]
  },
  {
   "cell_type": "code",
   "execution_count": 89,
   "id": "0520ff14",
   "metadata": {},
   "outputs": [
    {
     "data": {
      "text/html": [
       "<div>\n",
       "<style scoped>\n",
       "    .dataframe tbody tr th:only-of-type {\n",
       "        vertical-align: middle;\n",
       "    }\n",
       "\n",
       "    .dataframe tbody tr th {\n",
       "        vertical-align: top;\n",
       "    }\n",
       "\n",
       "    .dataframe thead th {\n",
       "        text-align: right;\n",
       "    }\n",
       "</style>\n",
       "<table border=\"1\" class=\"dataframe\">\n",
       "  <thead>\n",
       "    <tr style=\"text-align: right;\">\n",
       "      <th></th>\n",
       "      <th>messages</th>\n",
       "      <th>all_authors</th>\n",
       "      <th>timestamps</th>\n",
       "      <th>money</th>\n",
       "    </tr>\n",
       "  </thead>\n",
       "  <tbody>\n",
       "    <tr>\n",
       "      <th>0</th>\n",
       "      <td>being pretty means you're innocent?</td>\n",
       "      <td>Ashlin Hiscox</td>\n",
       "      <td>-8:15</td>\n",
       "      <td>0</td>\n",
       "    </tr>\n",
       "    <tr>\n",
       "      <th>1</th>\n",
       "      <td>yeah pretty evil and abusive</td>\n",
       "      <td>PeppermintPisces99</td>\n",
       "      <td>-8:14</td>\n",
       "      <td>0</td>\n",
       "    </tr>\n",
       "    <tr>\n",
       "      <th>2</th>\n",
       "      <td>He has no background of arrests and harming in...</td>\n",
       "      <td>IAM#FREE2BME</td>\n",
       "      <td>-8:06</td>\n",
       "      <td>0</td>\n",
       "    </tr>\n",
       "    <tr>\n",
       "      <th>3</th>\n",
       "      <td>Only person anyone should be supporting is Joh...</td>\n",
       "      <td>Nolan A Hannigan</td>\n",
       "      <td>-8:01</td>\n",
       "      <td>0</td>\n",
       "    </tr>\n",
       "    <tr>\n",
       "      <th>4</th>\n",
       "      <td>When's it going to start? it's stopped countin...</td>\n",
       "      <td>mina coltart</td>\n",
       "      <td>-7:48</td>\n",
       "      <td>0</td>\n",
       "    </tr>\n",
       "  </tbody>\n",
       "</table>\n",
       "</div>"
      ],
      "text/plain": [
       "                                            messages         all_authors  \\\n",
       "0                being pretty means you're innocent?       Ashlin Hiscox   \n",
       "1                       yeah pretty evil and abusive  PeppermintPisces99   \n",
       "2  He has no background of arrests and harming in...        IAM#FREE2BME   \n",
       "3  Only person anyone should be supporting is Joh...    Nolan A Hannigan   \n",
       "4  When's it going to start? it's stopped countin...        mina coltart   \n",
       "\n",
       "  timestamps money  \n",
       "0      -8:15     0  \n",
       "1      -8:14     0  \n",
       "2      -8:06     0  \n",
       "3      -8:01     0  \n",
       "4      -7:48     0  "
      ]
     },
     "execution_count": 89,
     "metadata": {},
     "output_type": "execute_result"
    }
   ],
   "source": [
    "df.head()"
   ]
  },
  {
   "cell_type": "code",
   "execution_count": 90,
   "id": "a07329cc",
   "metadata": {},
   "outputs": [],
   "source": [
    "df.rename(columns={\"messages\": \"comments\"}, inplace=True)"
   ]
  },
  {
   "cell_type": "code",
   "execution_count": 91,
   "id": "9d697cc6",
   "metadata": {},
   "outputs": [],
   "source": [
    "df = df[\"comments\"]"
   ]
  },
  {
   "cell_type": "code",
   "execution_count": 92,
   "id": "426d2944",
   "metadata": {},
   "outputs": [
    {
     "data": {
      "text/plain": [
       "(47325,)"
      ]
     },
     "execution_count": 92,
     "metadata": {},
     "output_type": "execute_result"
    }
   ],
   "source": [
    "df.shape"
   ]
  },
  {
   "cell_type": "code",
   "execution_count": 51,
   "id": "6d656b65",
   "metadata": {},
   "outputs": [],
   "source": [
    "groq_key = os.getenv(\"GROQ_API_KEY\")"
   ]
  },
  {
   "cell_type": "code",
   "execution_count": null,
   "id": "60047233",
   "metadata": {},
   "outputs": [],
   "source": [
    "def llm(prompt):\n",
    "  client = Groq(api_key=\"xyz\")\n",
    "  completion = client.chat.completions.create(\n",
    "      model=\"meta-llama/llama-4-scout-17b-16e-instruct\",\n",
    "      messages=[\n",
    "        {\n",
    "          \"role\": \"user\",\n",
    "          \"content\": prompt\n",
    "        }\n",
    "      ],\n",
    "      temperature=1,\n",
    "      max_completion_tokens=1024,\n",
    "      top_p=1,\n",
    "      stream=False,\n",
    "  )\n",
    "\n",
    "  answer = completion.choices[0].message.content \n",
    "\n",
    "  return answer\n"
   ]
  },
  {
   "cell_type": "code",
   "execution_count": 97,
   "id": "5bf97983",
   "metadata": {},
   "outputs": [],
   "source": [
    "comments = df.head(14).to_list()"
   ]
  },
  {
   "cell_type": "code",
   "execution_count": 70,
   "id": "af10fb9d",
   "metadata": {},
   "outputs": [],
   "source": [
    "description = \"\"\"LIVE COVERAGE: Johnny Depp v Amber Heard Defamation Trial\n",
    "\n",
    "Happening in court:\n",
    "Plaintiff Opening Statement - Benjamin Chew\n",
    "Plaintiff Opening Statement - Camille Vasquez\n",
    "Break\n",
    "Respondent Opening Statement-J Benjamin Rottenborn-Amber Heard’s Attorney\n",
    "Opening Statement - Elaine Bredehoft - Amber Heard’s Attorney\n",
    "LUNCH BREAK \n",
    "Christi Dembrowski - Johnny Depp's Sister\n",
    "\n",
    "Actor Johnny Depp is suing ex-wife Amber Heard for $50 million  for defamation in connection with Heard’s 2018 Washington Post op-ed, in which she spoke out about being the victim of domestic violence. Heard’s article did not specifically name Depp as her alleged abuser, but according to Depp’s lawsuit, it relied “on the central premise that Ms. Heard was a domestic abuse victim and that Mr. Depp perpetrated domestic violence against her.” Amber Heard is counter-suing Depp for $100 million. \n",
    "\n",
    "The defamation trial began Monday in Fairfax County Circuit Court in Virginia, with jury selection completing on the same day. There is a possibility of celebrity witnesses testifying, including James Franco and Elon Musk. Tune in to the Law&Crime Network for daily coverage of this high-profile trial. \n",
    "\n",
    "#JohnnyDepp #AmberHeard\n",
    "\"\"\""
   ]
  },
  {
   "cell_type": "code",
   "execution_count": null,
   "id": "e988d8e6",
   "metadata": {},
   "outputs": [],
   "source": [
    "prompt = f\"\"\"You are a YouTube livestream comment summariser. Every 5 minutes, you will receive a batch of viewer comments. Your job is to provide a **brief, focused summary** of what viewers are actively discussing or reacting to, without restating the video topic or repeating known context.\n",
    "\n",
    "Also, provide a **single sentiment score** between 1 (very negative) and 5 (very positive) that best reflects the overall emotional tone of the comments.\n",
    "\n",
    "Only include the **most relevant viewer reactions or emerging themes**—avoid general statements or obvious information already found in the video description.\n",
    "\n",
    "Output format (JSON only, no extra text):\n",
    "{{\"summary\": \"your summary here\", \"score\": sentiment_score}}\n",
    "\n",
    "Video Description:\n",
    "{description}\n",
    "\n",
    "Comments:\n",
    "{comments}\n",
    "\"\"\""
   ]
  },
  {
   "cell_type": "code",
   "execution_count": 78,
   "id": "eddb1d64",
   "metadata": {},
   "outputs": [],
   "source": [
    "response = llm(prompt)"
   ]
  },
  {
   "cell_type": "code",
   "execution_count": 79,
   "id": "6f4081f8",
   "metadata": {},
   "outputs": [],
   "source": [
    "output = ast.literal_eval(response)"
   ]
  },
  {
   "cell_type": "code",
   "execution_count": 81,
   "id": "b482a9f7",
   "metadata": {},
   "outputs": [
    {
     "data": {
      "text/plain": [
       "\"Viewers are discussing Amber Heard's appearance and questioning her innocence based on her looks and past behavior. Many are expressing support for Johnny Depp, citing his lack of a history with domestic violence and implying that Heard has a history of manipulation. There are also some technical issues with the livestream timing.\""
      ]
     },
     "execution_count": 81,
     "metadata": {},
     "output_type": "execute_result"
    }
   ],
   "source": [
    "output[\"summary\"]"
   ]
  },
  {
   "cell_type": "code",
   "execution_count": 82,
   "id": "9e86e162",
   "metadata": {},
   "outputs": [
    {
     "data": {
      "text/plain": [
       "4"
      ]
     },
     "execution_count": 82,
     "metadata": {},
     "output_type": "execute_result"
    }
   ],
   "source": [
    "output[\"score\"]"
   ]
  },
  {
   "cell_type": "code",
   "execution_count": 131,
   "id": "cf07d4b3",
   "metadata": {},
   "outputs": [],
   "source": [
    "def stream():\n",
    "    for i in comments:\n",
    "        print(i)\n",
    "        time.sleep(np.random.uniform(0, 2))"
   ]
  },
  {
   "cell_type": "code",
   "execution_count": 132,
   "id": "28c600ac",
   "metadata": {},
   "outputs": [
    {
     "name": "stdout",
     "output_type": "stream",
     "text": [
      "being pretty means you're innocent?\n",
      "yeah pretty evil and abusive\n",
      "He has no background of arrests and harming in relationships regarding DV, she does.\n",
      "Only person anyone should be supporting is Johnny depp\n",
      "When's it going to start? it's stopped counting down.\n",
      "are they doing the trial in london again? \n",
      "starts at 10\n",
      "Yes, amber heard is pretty but she is no human…guys will fall to her\n",
      "24 mins \n",
      "Hi \n",
      "She may be pretty, but that's only skin deep. Her behavior puts her in the category of \"loose canon\".\n",
      "WAS pretty. past tense.\n",
      "#johnnydeppisinnocent\n",
      "evidence over looks johnny has all the evidence she has none\n"
     ]
    }
   ],
   "source": [
    "stream()"
   ]
  },
  {
   "cell_type": "markdown",
   "id": "6d0efa48",
   "metadata": {},
   "source": [
    "water running - stream\n",
    "\n",
    "catching water in first cup - temp1"
   ]
  },
  {
   "cell_type": "code",
   "execution_count": 133,
   "id": "bacc7f57",
   "metadata": {},
   "outputs": [],
   "source": [
    "temp1 = []"
   ]
  },
  {
   "cell_type": "code",
   "execution_count": 142,
   "id": "f2c15540",
   "metadata": {},
   "outputs": [
    {
     "name": "stdout",
     "output_type": "stream",
     "text": [
      "[\"being pretty means you're innocent?\", 'yeah pretty evil and abusive', 'He has no background of arrests and harming in relationships regarding DV, she does.', 'Only person anyone should be supporting is Johnny depp', \"When's it going to start? it's stopped counting down.\", 'are they doing the trial in london again? ', 'starts at 10', 'Yes, amber heard is pretty but she is no human…guys will fall to her', '24 mins ', 'Hi ', 'She may be pretty, but that\\'s only skin deep. Her behavior puts her in the category of \"loose canon\".', 'WAS pretty. past tense.', '#johnnydeppisinnocent', 'evidence over looks johnny has all the evidence she has none']\n"
     ]
    }
   ],
   "source": [
    "start_time = time.time()\n",
    "while time.time() - start_time < 3:\n",
    "    for i in comments:\n",
    "        temp1.append(i)\n",
    "        time.sleep(np.random.uniform(0, 2))\n",
    "\n",
    "print(temp1)"
   ]
  },
  {
   "cell_type": "code",
   "execution_count": null,
   "id": "d33b0cf2",
   "metadata": {},
   "outputs": [],
   "source": []
  }
 ],
 "metadata": {
  "kernelspec": {
   "display_name": "venv",
   "language": "python",
   "name": "python3"
  },
  "language_info": {
   "codemirror_mode": {
    "name": "ipython",
    "version": 3
   },
   "file_extension": ".py",
   "mimetype": "text/x-python",
   "name": "python",
   "nbconvert_exporter": "python",
   "pygments_lexer": "ipython3",
   "version": "3.13.5"
  }
 },
 "nbformat": 4,
 "nbformat_minor": 5
}
